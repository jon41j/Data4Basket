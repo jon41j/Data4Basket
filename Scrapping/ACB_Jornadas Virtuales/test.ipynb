{
 "cells": [
  {
   "cell_type": "code",
   "execution_count": 47,
   "metadata": {},
   "outputs": [],
   "source": [
    "import mysql.connector\n",
    "import sqlite3"
   ]
  },
  {
   "cell_type": "code",
   "execution_count": 48,
   "metadata": {},
   "outputs": [],
   "source": [
    "def conectar_BDD():\n",
    "    conexion = sqlite3.connect('ACB24.db')\n",
    "    cursor = conexion.cursor()\n",
    "    return(conexion, cursor)"
   ]
  },
  {
   "cell_type": "code",
   "execution_count": 49,
   "metadata": {},
   "outputs": [
    {
     "data": {
      "text/plain": [
       "<sqlite3.Cursor at 0x1e26bfaa540>"
      ]
     },
     "execution_count": 49,
     "metadata": {},
     "output_type": "execute_result"
    }
   ],
   "source": [
    "[conexion, cursor] = conectar_BDD()\n",
    "\n",
    "listOfTuples_out = [\n",
    "    ('1', '89', '107', 'ACB_24_104061', 'ACB24_4338', 'ACB24_4338_30003408', 'Trent Forrest', 1, '1º Cuarto', 'Local', 0, 'Derrota', '05-10-2024 - 18:00', 0, 0, 1),\n",
    "('1', '89', '107', 'ACB_24_104061', 'ACB24_4338', 'ACB24_4338_30003408', 'Trent Forrest', 1, '1º Cuarto', 'Local', 0, 'Derrota', '05-10-2024 - 18:00', 1, 0, 1)\n",
    "]\n",
    "\n",
    "insert_st = 'INSERT INTO j_minutesDistributionPlayer (id_competition, id_edition, id_phase, id_match, id_team, id_player, name_player, period, periodD, lado, result, resultD, start_date, minute, second, playIn) VALUES (?,?,?,?,?,?,?,?,?,?,?,?,?,?,?,?)'\n",
    "#try:\n",
    "cursor.executemany(insert_st, listOfTuples_out)"
   ]
  },
  {
   "cell_type": "code",
   "execution_count": 50,
   "metadata": {},
   "outputs": [
    {
     "data": {
      "text/plain": [
       "['id_competition',\n",
       " 'id_edition',\n",
       " 'id_phase',\n",
       " 'startDate',\n",
       " 'id_match',\n",
       " 'id_event',\n",
       " 'period',\n",
       " 'minute',\n",
       " 'second',\n",
       " 'score_local',\n",
       " 'score_visitor',\n",
       " 'id_team',\n",
       " 'id_player',\n",
       " 'name_player',\n",
       " 'id_playbyplaytype',\n",
       " 'id_globalPBP_typeID',\n",
       " 'id_principalPBP_typeID',\n",
       " 'id_secundaryPBP_typeID',\n",
       " 'wall_clock',\n",
       " 'previous_action']"
      ]
     },
     "execution_count": 50,
     "metadata": {},
     "output_type": "execute_result"
    }
   ],
   "source": [
    "['id_competition','id_edition','id_phase', 'startDate','id_match', 'id_event', 'period', 'minute', 'second', 'score_local', 'score_visitor', 'id_team', 'id_player', 'name_player', 'id_playbyplaytype', 'id_globalPBP_typeID', 'id_principalPBP_typeID', 'id_secundaryPBP_typeID', 'wall_clock', 'previous_action']"
   ]
  }
 ],
 "metadata": {
  "kernelspec": {
   "display_name": "Python 3",
   "language": "python",
   "name": "python3"
  },
  "language_info": {
   "codemirror_mode": {
    "name": "ipython",
    "version": 3
   },
   "file_extension": ".py",
   "mimetype": "text/x-python",
   "name": "python",
   "nbconvert_exporter": "python",
   "pygments_lexer": "ipython3",
   "version": "3.11.3"
  }
 },
 "nbformat": 4,
 "nbformat_minor": 2
}
